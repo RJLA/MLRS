{
 "cells": [
  {
   "cell_type": "code",
   "execution_count": 1,
   "metadata": {},
   "outputs": [
    {
     "name": "stdout",
     "output_type": "stream",
     "text": [
      "\n",
      "#==============================================================#\n",
      "# rs_learn: A library for applying machine learning processes  #\n",
      "# and artificial neural network in Remote Sensing              #\n",
      "#==============================================================#\n",
      "\n",
      "#=====================================================================#\n",
      "# Author:      Reginald Jay L. Argamosa <regi.argamosa@gmail.com>     #  \n",
      "# Affiliation: University of the Philippines -                        #\n",
      "#              Training Center for Applied Geodesy and Photogrammetry #\n",
      "#=====================================================================#\n",
      "\n"
     ]
    },
    {
     "name": "stderr",
     "output_type": "stream",
     "text": [
      "Using TensorFlow backend.\n"
     ]
    }
   ],
   "source": [
    "import rs_learn as rsl\n",
    "import os\n",
    "import joblib\n",
    "from sklearn.feature_selection import VarianceThreshold \n",
    "import seaborn as sns\n",
    "from sklearn.model_selection import cross_val_score\n",
    "from statistics import mean\n",
    "from sklearn.inspection import permutation_importance\n",
    "from sklearn.model_selection import KFold\n",
    "from scipy.stats import kurtosis, skew\n",
    "from sklearn.preprocessing import StandardScaler\n",
    "from sklearn.cluster import KMeans\n",
    "from sklearn.pipeline import Pipeline\n",
    "from sklearn.feature_selection import SelectFromModel\n",
    "from sklearn.preprocessing import MinMaxScaler\n",
    "from sklearn.model_selection import train_test_split\n",
    "import matplotlib.pyplot as plt\n",
    "import pandas as pd\n",
    "from lightgbm import LGBMRegressor\n",
    "import numpy as np"
   ]
  },
  {
   "cell_type": "code",
   "execution_count": 2,
   "metadata": {},
   "outputs": [
    {
     "name": "stdout",
     "output_type": "stream",
     "text": [
      "\n",
      "        args: raster_path,\n",
      "        raster_name,\n",
      "        raster_extension\n",
      "              \n",
      "Opening C:\\Users\\Dlaniger\\Projects\\GuHEAT\\REPORT_WRITING\\images\\sub\\QC_BB_2019-02-05-L8.tif raster\n",
      "\n",
      "Rows: 139\n",
      "Cols: 187\n",
      "Pixel size: 30.0\n",
      "Number of bands: 12\n",
      "Projection: PROJCS[\"WGS 84 / UTM zone 51N\",GEOGCS[\"WGS 84\",DATUM[\"WGS_1984\",SPHEROID[\"WGS 84\",6378137,298.257223563,AUTHORITY[\"EPSG\",\"7030\"]],AUTHORITY[\"EPSG\",\"6326\"]],PRIMEM[\"Greenwich\",0,AUTHORITY[\"EPSG\",\"8901\"]],UNIT[\"degree\",0.0174532925199433,AUTHORITY[\"EPSG\",\"9122\"]],AUTHORITY[\"EPSG\",\"4326\"]],PROJECTION[\"Transverse_Mercator\"],PARAMETER[\"latitude_of_origin\",0],PARAMETER[\"central_meridian\",123],PARAMETER[\"scale_factor\",0.9996],PARAMETER[\"false_easting\",500000],PARAMETER[\"false_northing\",0],UNIT[\"metre\",1,AUTHORITY[\"EPSG\",\"9001\"]],AXIS[\"Easting\",EAST],AXIS[\"Northing\",NORTH],AUTHORITY[\"EPSG\",\"32651\"]]\n"
     ]
    }
   ],
   "source": [
    "#get raster path, name, and file extension\n",
    "#the raster file is DN\n",
    "raster_path = r'C:\\Users\\Dlaniger\\Projects\\GuHEAT\\REPORT_WRITING\\images\\sub'\n",
    "raster_name = 'QC_BB_2019-02-05-L8'\n",
    "raster_extension = 'tif'\n",
    "rd = rsl.Raster_to_dataframe(raster_path = raster_path,\n",
    "                                    raster_name = raster_name,\n",
    "                                    raster_extension = raster_extension,\n",
    "#                             no_data_value = -9999\n",
    "                            )"
   ]
  },
  {
   "cell_type": "code",
   "execution_count": 3,
   "metadata": {},
   "outputs": [
    {
     "name": "stderr",
     "output_type": "stream",
     "text": [
      "C:\\Users\\Dlaniger\\Anaconda3\\lib\\site-packages\\rs_learn\\Raster_to_dataframe.py:139: FutureWarning: The 'get_values' method is deprecated and will be removed in a future version. Use '.to_numpy()' or '.array' instead.\n",
      "  self.df_to_use_idx = self.df_to_use.index.get_values()\n"
     ]
    }
   ],
   "source": [
    "#create a dataframe from raster\n",
    "df_main = rd.make_df()"
   ]
  },
  {
   "cell_type": "code",
   "execution_count": 4,
   "metadata": {},
   "outputs": [
    {
     "data": {
      "text/plain": [
       "(25668, 12)"
      ]
     },
     "execution_count": 4,
     "metadata": {},
     "output_type": "execute_result"
    }
   ],
   "source": [
    "df_main.shape"
   ]
  },
  {
   "cell_type": "code",
   "execution_count": 5,
   "metadata": {},
   "outputs": [
    {
     "data": {
      "text/html": [
       "<div>\n",
       "<style scoped>\n",
       "    .dataframe tbody tr th:only-of-type {\n",
       "        vertical-align: middle;\n",
       "    }\n",
       "\n",
       "    .dataframe tbody tr th {\n",
       "        vertical-align: top;\n",
       "    }\n",
       "\n",
       "    .dataframe thead th {\n",
       "        text-align: right;\n",
       "    }\n",
       "</style>\n",
       "<table border=\"1\" class=\"dataframe\">\n",
       "  <thead>\n",
       "    <tr style=\"text-align: right;\">\n",
       "      <th></th>\n",
       "      <th>band_1</th>\n",
       "      <th>band_2</th>\n",
       "      <th>band_3</th>\n",
       "      <th>band_4</th>\n",
       "      <th>band_5</th>\n",
       "      <th>band_6</th>\n",
       "      <th>band_7</th>\n",
       "      <th>band_8</th>\n",
       "      <th>band_9</th>\n",
       "      <th>band_10</th>\n",
       "      <th>band_11</th>\n",
       "      <th>band_12</th>\n",
       "    </tr>\n",
       "  </thead>\n",
       "  <tbody>\n",
       "    <tr>\n",
       "      <td>1</td>\n",
       "      <td>10422.0</td>\n",
       "      <td>9755.0</td>\n",
       "      <td>9046.0</td>\n",
       "      <td>8642.0</td>\n",
       "      <td>10292.0</td>\n",
       "      <td>11408.0</td>\n",
       "      <td>10657.0</td>\n",
       "      <td>9224.0</td>\n",
       "      <td>5025.0</td>\n",
       "      <td>31628.998047</td>\n",
       "      <td>27844.0</td>\n",
       "      <td>2720.0</td>\n",
       "    </tr>\n",
       "    <tr>\n",
       "      <td>2</td>\n",
       "      <td>10344.0</td>\n",
       "      <td>9594.0</td>\n",
       "      <td>8851.0</td>\n",
       "      <td>8485.0</td>\n",
       "      <td>9874.0</td>\n",
       "      <td>9919.0</td>\n",
       "      <td>8934.0</td>\n",
       "      <td>8288.0</td>\n",
       "      <td>5030.0</td>\n",
       "      <td>31564.000000</td>\n",
       "      <td>27794.0</td>\n",
       "      <td>2720.0</td>\n",
       "    </tr>\n",
       "  </tbody>\n",
       "</table>\n",
       "</div>"
      ],
      "text/plain": [
       "    band_1  band_2  band_3  band_4   band_5   band_6   band_7  band_8  band_9  \\\n",
       "1  10422.0  9755.0  9046.0  8642.0  10292.0  11408.0  10657.0  9224.0  5025.0   \n",
       "2  10344.0  9594.0  8851.0  8485.0   9874.0   9919.0   8934.0  8288.0  5030.0   \n",
       "\n",
       "        band_10  band_11  band_12  \n",
       "1  31628.998047  27844.0   2720.0  \n",
       "2  31564.000000  27794.0   2720.0  "
      ]
     },
     "execution_count": 5,
     "metadata": {},
     "output_type": "execute_result"
    }
   ],
   "source": [
    "df_main.head(2)"
   ]
  },
  {
   "cell_type": "code",
   "execution_count": 6,
   "metadata": {},
   "outputs": [],
   "source": [
    "df_main.columns = ['COASTAL',\n",
    "                   'BLUE',\n",
    "                   'GREEN',\n",
    "                   'RED',\n",
    "                   'NIR',\n",
    "                   'SWIR1',\n",
    "                   'SWIR2',\n",
    "                   'PAN',\n",
    "                   'CIRR',\n",
    "                   'TIRS1',\n",
    "                   'TIRS2',\n",
    "                   'BQA']"
   ]
  },
  {
   "cell_type": "code",
   "execution_count": 7,
   "metadata": {},
   "outputs": [
    {
     "data": {
      "text/html": [
       "<div>\n",
       "<style scoped>\n",
       "    .dataframe tbody tr th:only-of-type {\n",
       "        vertical-align: middle;\n",
       "    }\n",
       "\n",
       "    .dataframe tbody tr th {\n",
       "        vertical-align: top;\n",
       "    }\n",
       "\n",
       "    .dataframe thead th {\n",
       "        text-align: right;\n",
       "    }\n",
       "</style>\n",
       "<table border=\"1\" class=\"dataframe\">\n",
       "  <thead>\n",
       "    <tr style=\"text-align: right;\">\n",
       "      <th></th>\n",
       "      <th>COASTAL</th>\n",
       "      <th>BLUE</th>\n",
       "      <th>GREEN</th>\n",
       "      <th>RED</th>\n",
       "      <th>NIR</th>\n",
       "      <th>SWIR1</th>\n",
       "      <th>SWIR2</th>\n",
       "      <th>PAN</th>\n",
       "      <th>CIRR</th>\n",
       "      <th>TIRS1</th>\n",
       "      <th>TIRS2</th>\n",
       "      <th>BQA</th>\n",
       "    </tr>\n",
       "  </thead>\n",
       "  <tbody>\n",
       "    <tr>\n",
       "      <td>1</td>\n",
       "      <td>10422.0</td>\n",
       "      <td>9755.0</td>\n",
       "      <td>9046.0</td>\n",
       "      <td>8642.0</td>\n",
       "      <td>10292.0</td>\n",
       "      <td>11408.0</td>\n",
       "      <td>10657.0</td>\n",
       "      <td>9224.0</td>\n",
       "      <td>5025.0</td>\n",
       "      <td>31628.998047</td>\n",
       "      <td>27844.0</td>\n",
       "      <td>2720.0</td>\n",
       "    </tr>\n",
       "    <tr>\n",
       "      <td>2</td>\n",
       "      <td>10344.0</td>\n",
       "      <td>9594.0</td>\n",
       "      <td>8851.0</td>\n",
       "      <td>8485.0</td>\n",
       "      <td>9874.0</td>\n",
       "      <td>9919.0</td>\n",
       "      <td>8934.0</td>\n",
       "      <td>8288.0</td>\n",
       "      <td>5030.0</td>\n",
       "      <td>31564.000000</td>\n",
       "      <td>27794.0</td>\n",
       "      <td>2720.0</td>\n",
       "    </tr>\n",
       "  </tbody>\n",
       "</table>\n",
       "</div>"
      ],
      "text/plain": [
       "   COASTAL    BLUE   GREEN     RED      NIR    SWIR1    SWIR2     PAN    CIRR  \\\n",
       "1  10422.0  9755.0  9046.0  8642.0  10292.0  11408.0  10657.0  9224.0  5025.0   \n",
       "2  10344.0  9594.0  8851.0  8485.0   9874.0   9919.0   8934.0  8288.0  5030.0   \n",
       "\n",
       "          TIRS1    TIRS2     BQA  \n",
       "1  31628.998047  27844.0  2720.0  \n",
       "2  31564.000000  27794.0  2720.0  "
      ]
     },
     "execution_count": 7,
     "metadata": {},
     "output_type": "execute_result"
    }
   ],
   "source": [
    "df_main.head(2)"
   ]
  },
  {
   "cell_type": "code",
   "execution_count": 8,
   "metadata": {},
   "outputs": [],
   "source": [
    "#convert OLI bands to reflectance\n",
    "def to_reflectance(df, mp, ap):\n",
    "    # MP*QCAL + AP\n",
    "    df_reflectance = (mp * df) + ap\n",
    "    return df_reflectance\n",
    "\n",
    "df_reflectance = to_reflectance(df_main.iloc[:,1:-5],\n",
    "              2.0000E-05,\n",
    "              -0.100000)"
   ]
  },
  {
   "cell_type": "code",
   "execution_count": 9,
   "metadata": {},
   "outputs": [],
   "source": [
    "# convert thermal bands to radiance (TIRS 1 only)\n",
    "def to_radiance(df, ml, al):\n",
    "    # ML*QCAL + AL\n",
    "    df_radiance = (ml * df) + al\n",
    "    return df_radiance\n",
    "df_radiance = to_reflectance(df_main['TIRS1'],\n",
    "              3.3420E-04,\n",
    "              0.10000)"
   ]
  },
  {
   "cell_type": "code",
   "execution_count": 10,
   "metadata": {},
   "outputs": [
    {
     "data": {
      "text/html": [
       "<div>\n",
       "<style scoped>\n",
       "    .dataframe tbody tr th:only-of-type {\n",
       "        vertical-align: middle;\n",
       "    }\n",
       "\n",
       "    .dataframe tbody tr th {\n",
       "        vertical-align: top;\n",
       "    }\n",
       "\n",
       "    .dataframe thead th {\n",
       "        text-align: right;\n",
       "    }\n",
       "</style>\n",
       "<table border=\"1\" class=\"dataframe\">\n",
       "  <thead>\n",
       "    <tr style=\"text-align: right;\">\n",
       "      <th></th>\n",
       "      <th>BLUE</th>\n",
       "      <th>GREEN</th>\n",
       "      <th>RED</th>\n",
       "      <th>NIR</th>\n",
       "      <th>SWIR1</th>\n",
       "      <th>SWIR2</th>\n",
       "      <th>TIRS1</th>\n",
       "    </tr>\n",
       "  </thead>\n",
       "  <tbody>\n",
       "    <tr>\n",
       "      <td>1</td>\n",
       "      <td>0.09510</td>\n",
       "      <td>0.08092</td>\n",
       "      <td>0.07284</td>\n",
       "      <td>0.10584</td>\n",
       "      <td>0.12816</td>\n",
       "      <td>0.11314</td>\n",
       "      <td>10.670411</td>\n",
       "    </tr>\n",
       "    <tr>\n",
       "      <td>2</td>\n",
       "      <td>0.09188</td>\n",
       "      <td>0.07702</td>\n",
       "      <td>0.06970</td>\n",
       "      <td>0.09748</td>\n",
       "      <td>0.09838</td>\n",
       "      <td>0.07868</td>\n",
       "      <td>10.648689</td>\n",
       "    </tr>\n",
       "  </tbody>\n",
       "</table>\n",
       "</div>"
      ],
      "text/plain": [
       "      BLUE    GREEN      RED      NIR    SWIR1    SWIR2      TIRS1\n",
       "1  0.09510  0.08092  0.07284  0.10584  0.12816  0.11314  10.670411\n",
       "2  0.09188  0.07702  0.06970  0.09748  0.09838  0.07868  10.648689"
      ]
     },
     "execution_count": 10,
     "metadata": {},
     "output_type": "execute_result"
    }
   ],
   "source": [
    "#merge the two df\n",
    "df_oli_tirs = pd.concat([df_reflectance,\n",
    "                        df_radiance],\n",
    "                       axis = 1)\n",
    "df_oli_tirs.head(2)"
   ]
  },
  {
   "cell_type": "code",
   "execution_count": 11,
   "metadata": {},
   "outputs": [],
   "source": [
    "# convert TIRS1 to brightness\n",
    "df_oli_tirs['BT'] = (1321.0789 / np.log\\\n",
    "                     ((774.8853 / df_oli_tirs['TIRS1']) + 1)) \\\n",
    "                        - 273.15"
   ]
  },
  {
   "cell_type": "code",
   "execution_count": 12,
   "metadata": {},
   "outputs": [],
   "source": [
    "#compute for the land surface temperature using brightness band\n",
    "# Reference :Algorithm for Automated Mapping of Land Surface Temperature\n",
    "# Using LANDSAT 8 Satellite Data \n",
    "# Author: Ugur Avdan and Gordana Jovanovska\n",
    "\n",
    "# first, compute for ndvi and proportion of vegetation\n",
    "df_oli_tirs['NDVI'] = (df_oli_tirs['NIR'] - df_oli_tirs['RED']) / \\\n",
    "                        (df_oli_tirs['NIR'] + df_oli_tirs['RED'])\n",
    "\n",
    "df_oli_tirs['PV'] = np.square((df_oli_tirs['NDVI'] - 0.2) / (0.5 - 0.2))\n",
    "#then, compute for the emissivity\n",
    "df_oli_tirs['E'] = 1 #fill first with values\n",
    "\n",
    "df_oli_tirs.loc[df_oli_tirs.NDVI < 0, 'E'] = 0.991 #emissivity for water\n",
    "\n",
    "df_oli_tirs.loc[(df_oli_tirs.NDVI >= 0) & \\\n",
    "                (df_oli_tirs.NDVI < 0.2), 'E'] = 0.966 # land covered with soil\n",
    "\n",
    "df_oli_tirs.loc[(df_oli_tirs.NDVI >= 0.2) & \\\n",
    "                (df_oli_tirs.NDVI < 0.5), 'E'] = \\\n",
    "                (((0.973 * df_oli_tirs['PV']) + \\\n",
    "                  (1 - df_oli_tirs['PV']) * 0.966) + 0.005) # mixtures of soil and\n",
    "                                                            # vegetation cover\n",
    "df_oli_tirs.loc[df_oli_tirs.NDVI >= 0.5, 'E'] = 0.973 # covered with vegetation"
   ]
  },
  {
   "cell_type": "code",
   "execution_count": 13,
   "metadata": {},
   "outputs": [],
   "source": [
    "#finally, compute for the LST\n",
    "df_oli_tirs['LST'] = (df_oli_tirs['BT'] / \\\n",
    "                      (1 + (10.895 * df_oli_tirs['BT'] * \\\n",
    "                            np.log(df_oli_tirs['E'])) / 14388))"
   ]
  },
  {
   "cell_type": "code",
   "execution_count": 14,
   "metadata": {},
   "outputs": [],
   "source": [
    "df_oli_tirs.to_csv('main_df.csv',\n",
    "                  index = False)"
   ]
  },
  {
   "cell_type": "code",
   "execution_count": 15,
   "metadata": {},
   "outputs": [],
   "source": [
    "#select features and target\n",
    "#pv,e,bt are not included since these were used for computing the target, LST\n",
    "X_orig = df_oli_tirs[['BLUE', \n",
    "    'GREEN',\n",
    "    'RED',\n",
    "    'NIR',\n",
    "    'SWIR1',\n",
    "    'SWIR2',\n",
    "    'NDVI',\n",
    "    'PV']]\n",
    "y = df_oli_tirs['LST']"
   ]
  },
  {
   "cell_type": "code",
   "execution_count": 16,
   "metadata": {},
   "outputs": [
    {
     "name": "stderr",
     "output_type": "stream",
     "text": [
      "C:\\Users\\Dlaniger\\Anaconda3\\lib\\site-packages\\ipykernel_launcher.py:3: SettingWithCopyWarning: \n",
      "A value is trying to be set on a copy of a slice from a DataFrame.\n",
      "Try using .loc[row_indexer,col_indexer] = value instead\n",
      "\n",
      "See the caveats in the documentation: http://pandas.pydata.org/pandas-docs/stable/user_guide/indexing.html#returning-a-view-versus-a-copy\n",
      "  This is separate from the ipykernel package so we can avoid doing imports until\n",
      "C:\\Users\\Dlaniger\\Anaconda3\\lib\\site-packages\\ipykernel_launcher.py:4: SettingWithCopyWarning: \n",
      "A value is trying to be set on a copy of a slice from a DataFrame.\n",
      "Try using .loc[row_indexer,col_indexer] = value instead\n",
      "\n",
      "See the caveats in the documentation: http://pandas.pydata.org/pandas-docs/stable/user_guide/indexing.html#returning-a-view-versus-a-copy\n",
      "  after removing the cwd from sys.path.\n",
      "C:\\Users\\Dlaniger\\Anaconda3\\lib\\site-packages\\ipykernel_launcher.py:5: SettingWithCopyWarning: \n",
      "A value is trying to be set on a copy of a slice from a DataFrame.\n",
      "Try using .loc[row_indexer,col_indexer] = value instead\n",
      "\n",
      "See the caveats in the documentation: http://pandas.pydata.org/pandas-docs/stable/user_guide/indexing.html#returning-a-view-versus-a-copy\n",
      "  \"\"\"\n"
     ]
    }
   ],
   "source": [
    "# compute indices as new features\n",
    "#vegetation indices\n",
    "X_orig['DVI'] = X_orig['NIR'] - X_orig['RED']\n",
    "X_orig['GCI'] = (X_orig['NIR'] / X_orig['GREEN']) - 1\n",
    "X_orig['GDVI'] = (X_orig['NIR'] - X_orig['GREEN'])\n",
    "X_orig['GLI'] = ((X_orig['GREEN'] - X_orig['RED']) + (X_orig['GREEN'] + X_orig['BLUE'])) / ((2* X_orig['GREEN']) + X_orig['RED'] + X_orig['BLUE'])\n",
    "X_orig['GNDVI'] = (X_orig['NIR'] - X_orig['GREEN']) / (X_orig['NIR'] + X_orig['GREEN'])\n",
    "X_orig['GRVI'] = (X_orig['NIR'] / X_orig['GREEN'])\n",
    "X_orig['IPVI'] = X_orig['NIR'] / (X_orig['NIR'] + X_orig['RED'])\n",
    "X_orig['MSR'] = ((X_orig['NIR'] / X_orig['RED']) -1) / (np.sqrt(X_orig['NIR'] / X_orig['RED']) + 1)\n",
    "X_orig['NLI'] = (X_orig['NIR'] **2 - X_orig['RED']) / (X_orig['NIR'] **2 + X_orig['RED'])\n",
    "X_orig['NDVI'] = (X_orig['NIR'] - X_orig['RED']) / (X_orig['NIR'] + X_orig['RED'])\n",
    "X_orig['RDVI'] = (X_orig['NIR'] - X_orig['RED']) / np.sqrt((X_orig['NIR'] + X_orig['RED']))\n",
    "X_orig['SR'] = X_orig['NIR'] / X_orig['RED']\n",
    "X_orig['VARI'] = (X_orig['GREEN'] - X_orig['RED']) / (X_orig['GREEN'] + X_orig['RED'] - X_orig['BLUE'])\n",
    "X_orig['SAVI'] = ((X_orig['NIR'] - X_orig['RED']) + 1.5) / (X_orig['NIR'] + X_orig['RED'] + 1)\n",
    "\n",
    "# bulit up indices\n",
    "X_orig['VNIR-BI'] = (X_orig['RED'] - X_orig['NIR']) / (X_orig['RED'] + X_orig['NIR'])\n",
    "X_orig['NDBI'] = (X_orig['SWIR1'] - X_orig['NIR']) / (X_orig['SWIR1'] + X_orig['NIR'])\n",
    "X_orig['UI'] = (X_orig['SWIR2'] - X_orig['NIR']) /(X_orig['SWIR2'] + X_orig['NIR']) \n",
    "X_orig['DBSI'] = ((X_orig['SWIR1'] - X_orig['GREEN']) / (X_orig['SWIR1'] + X_orig['GREEN'])) - X_orig['NDVI']\n",
    "X_orig['BU'] = X_orig['NDBI'] - X_orig['NDVI']\n",
    "                                                           \n",
    "#others\n",
    "X_orig['NDWI'] = (X_orig['NIR'] - X_orig['SWIR1']) /\\\n",
    "                        (X_orig['NIR'] + X_orig['SWIR1']) \n",
    "X_orig['MNDWI'] = (X_orig['GREEN'] - X_orig['NIR']) /\\\n",
    "                        (X_orig['GREEN'] + X_orig['NIR']) \n",
    "# bulit up indix BAEM\n",
    "X_orig['BAEM'] = X_orig['NDBI'] - X_orig['NDVI'] - X_orig['MNDWI']\n",
    "\n",
    "df_X = X_orig"
   ]
  },
  {
   "cell_type": "code",
   "execution_count": 17,
   "metadata": {},
   "outputs": [],
   "source": [
    "cols_orig = ['BLUE', 'GREEN', 'RED', 'NIR', 'SWIR1', 'SWIR2', 'NDVI', 'PV', 'DVI',\n",
    "       'GCI', 'GDVI', 'GLI', 'GNDVI', 'GRVI', 'IPVI', 'MSR', 'NLI', 'RDVI',\n",
    "       'SR', 'VARI', 'SAVI', 'VNIR-BI', 'NDBI', 'UI', 'DBSI', 'BU', 'NDWI',\n",
    "       'MNDWI', 'BAEM']"
   ]
  },
  {
   "cell_type": "code",
   "execution_count": 17,
   "metadata": {},
   "outputs": [],
   "source": [
    "# for i in df_X.columns:\n",
    "#     rd.df_to_raster(df_X[i],\n",
    "#                    i,\n",
    "#                    'reg')"
   ]
  },
  {
   "cell_type": "code",
   "execution_count": 18,
   "metadata": {},
   "outputs": [],
   "source": [
    "# engineer more feat\n",
    "#basic stat\n",
    "df_X['AVE'] = np.mean(MinMaxScaler().fit_transform(df_X[cols_orig]), \n",
    "                       axis = 1) \n",
    "df_X['MIN'] = np.min(MinMaxScaler().fit_transform(df_X[cols_orig]), \n",
    "                       axis = 1)\n",
    "df_X['MAX'] = np.max(MinMaxScaler().fit_transform(df_X[cols_orig]), \n",
    "                       axis = 1)\n",
    "df_X['STD'] = np.std(MinMaxScaler().fit_transform(df_X[cols_orig]), \n",
    "                       axis = 1)\n",
    "df_X['VAR'] = np.var(MinMaxScaler().fit_transform(df_X[cols_orig]), \n",
    "                       axis = 1)\n",
    "df_X['PTP'] = np.ptp(MinMaxScaler().fit_transform(df_X[cols_orig]), \n",
    "                       axis = 1)\n",
    "df_X['SKEW'] = skew(MinMaxScaler().fit_transform(df_X[cols_orig]), \n",
    "                       axis = 1)\n",
    "df_X['KUR'] = kurtosis(MinMaxScaler().fit_transform(df_X[cols_orig]), \n",
    "                       axis = 1)\n",
    "\n",
    "#percentile\n",
    "df_X['P10'] = np.percentile(MinMaxScaler().fit_transform(df_X[cols_orig]),\n",
    "                            q = 10, axis = 1)\n",
    "df_X['P20'] = np.percentile(MinMaxScaler().fit_transform(df_X[cols_orig]),\n",
    "                            q = 20, axis = 1)\n",
    "df_X['P30'] = np.percentile(MinMaxScaler().fit_transform(df_X[cols_orig]),\n",
    "                            q = 30, axis = 1)\n",
    "df_X['P40'] = np.percentile(MinMaxScaler().fit_transform(df_X[cols_orig]),\n",
    "                            q = 40, axis = 1)\n",
    "df_X['P50'] = np.percentile(MinMaxScaler().fit_transform(df_X[cols_orig]),\n",
    "                            q = 50, axis = 1)\n",
    "df_X['P60'] = np.percentile(MinMaxScaler().fit_transform(df_X[cols_orig]),\n",
    "                            q = 60, axis = 1)\n",
    "df_X['P70'] = np.percentile(MinMaxScaler().fit_transform(df_X[cols_orig]),\n",
    "                            q = 70, axis = 1)\n",
    "df_X['P80'] = np.percentile(MinMaxScaler().fit_transform(df_X[cols_orig]),\n",
    "                            q = 80, axis = 1)\n",
    "df_X['P90'] = np.percentile(MinMaxScaler().fit_transform(df_X[cols_orig]),\n",
    "                            q = 90, axis = 1)\n",
    "df_X['P99'] = np.percentile(MinMaxScaler().fit_transform(df_X[cols_orig]),\n",
    "                            q = 99, axis = 1)\n",
    "\n",
    "#quantile\n",
    "df_X['Q10'] = np.quantile(MinMaxScaler().fit_transform(df_X[cols_orig]),\n",
    "                            q = 0.1, axis = 1)\n",
    "df_X['Q20'] = np.quantile(MinMaxScaler().fit_transform(df_X[cols_orig]),\n",
    "                            q = 0.2, axis = 1)\n",
    "df_X['Q30'] = np.quantile(MinMaxScaler().fit_transform(df_X[cols_orig]),\n",
    "                            q = 0.3, axis = 1)\n",
    "df_X['Q40'] = np.quantile(MinMaxScaler().fit_transform(df_X[cols_orig]),\n",
    "                            q = 0.4, axis = 1)\n",
    "df_X['Q50'] = np.quantile(MinMaxScaler().fit_transform(df_X[cols_orig]),\n",
    "                            q = 0.5, axis = 1)\n",
    "df_X['Q60'] = np.quantile(MinMaxScaler().fit_transform(df_X[cols_orig]),\n",
    "                            q = 0.6, axis = 1)\n",
    "df_X['Q70'] = np.quantile(MinMaxScaler().fit_transform(df_X[cols_orig]),\n",
    "                            q = 0.7, axis = 1)\n",
    "df_X['Q80'] = np.quantile(MinMaxScaler().fit_transform(df_X[cols_orig]),\n",
    "                            q = 0.8, axis = 1)\n",
    "df_X['Q90'] = np.quantile(MinMaxScaler().fit_transform(df_X[cols_orig]),\n",
    "                            q = 0.9, axis = 1)\n",
    "df_X['Q99'] = np.quantile(MinMaxScaler().fit_transform(df_X[cols_orig]),\n",
    "                            q = 0.99, axis = 1)"
   ]
  },
  {
   "cell_type": "code",
   "execution_count": 19,
   "metadata": {},
   "outputs": [
    {
     "data": {
      "text/html": [
       "<div>\n",
       "<style scoped>\n",
       "    .dataframe tbody tr th:only-of-type {\n",
       "        vertical-align: middle;\n",
       "    }\n",
       "\n",
       "    .dataframe tbody tr th {\n",
       "        vertical-align: top;\n",
       "    }\n",
       "\n",
       "    .dataframe thead th {\n",
       "        text-align: right;\n",
       "    }\n",
       "</style>\n",
       "<table border=\"1\" class=\"dataframe\">\n",
       "  <thead>\n",
       "    <tr style=\"text-align: right;\">\n",
       "      <th></th>\n",
       "      <th>BLUE</th>\n",
       "      <th>GREEN</th>\n",
       "      <th>RED</th>\n",
       "      <th>NIR</th>\n",
       "      <th>SWIR1</th>\n",
       "      <th>SWIR2</th>\n",
       "      <th>NDVI</th>\n",
       "      <th>PV</th>\n",
       "      <th>DVI</th>\n",
       "      <th>GCI</th>\n",
       "      <th>...</th>\n",
       "      <th>Q10</th>\n",
       "      <th>Q20</th>\n",
       "      <th>Q30</th>\n",
       "      <th>Q40</th>\n",
       "      <th>Q50</th>\n",
       "      <th>Q60</th>\n",
       "      <th>Q70</th>\n",
       "      <th>Q80</th>\n",
       "      <th>Q90</th>\n",
       "      <th>Q99</th>\n",
       "    </tr>\n",
       "  </thead>\n",
       "  <tbody>\n",
       "    <tr>\n",
       "      <td>1</td>\n",
       "      <td>0.09510</td>\n",
       "      <td>0.08092</td>\n",
       "      <td>0.07284</td>\n",
       "      <td>0.10584</td>\n",
       "      <td>0.12816</td>\n",
       "      <td>0.11314</td>\n",
       "      <td>0.184688</td>\n",
       "      <td>0.002605</td>\n",
       "      <td>0.03300</td>\n",
       "      <td>0.307958</td>\n",
       "      <td>...</td>\n",
       "      <td>0.154756</td>\n",
       "      <td>0.166694</td>\n",
       "      <td>0.208341</td>\n",
       "      <td>0.247508</td>\n",
       "      <td>0.276259</td>\n",
       "      <td>0.424868</td>\n",
       "      <td>0.504372</td>\n",
       "      <td>0.616470</td>\n",
       "      <td>0.660472</td>\n",
       "      <td>0.742557</td>\n",
       "    </tr>\n",
       "    <tr>\n",
       "      <td>2</td>\n",
       "      <td>0.09188</td>\n",
       "      <td>0.07702</td>\n",
       "      <td>0.06970</td>\n",
       "      <td>0.09748</td>\n",
       "      <td>0.09838</td>\n",
       "      <td>0.07868</td>\n",
       "      <td>0.166168</td>\n",
       "      <td>0.012718</td>\n",
       "      <td>0.02778</td>\n",
       "      <td>0.265645</td>\n",
       "      <td>...</td>\n",
       "      <td>0.139873</td>\n",
       "      <td>0.151204</td>\n",
       "      <td>0.190626</td>\n",
       "      <td>0.215384</td>\n",
       "      <td>0.258922</td>\n",
       "      <td>0.453570</td>\n",
       "      <td>0.507455</td>\n",
       "      <td>0.564987</td>\n",
       "      <td>0.607061</td>\n",
       "      <td>0.726106</td>\n",
       "    </tr>\n",
       "    <tr>\n",
       "      <td>3</td>\n",
       "      <td>0.09058</td>\n",
       "      <td>0.07202</td>\n",
       "      <td>0.06496</td>\n",
       "      <td>0.08936</td>\n",
       "      <td>0.11238</td>\n",
       "      <td>0.10382</td>\n",
       "      <td>0.158113</td>\n",
       "      <td>0.019495</td>\n",
       "      <td>0.02440</td>\n",
       "      <td>0.240766</td>\n",
       "      <td>...</td>\n",
       "      <td>0.133267</td>\n",
       "      <td>0.135449</td>\n",
       "      <td>0.192445</td>\n",
       "      <td>0.219268</td>\n",
       "      <td>0.248940</td>\n",
       "      <td>0.429981</td>\n",
       "      <td>0.506864</td>\n",
       "      <td>0.633630</td>\n",
       "      <td>0.680858</td>\n",
       "      <td>0.776823</td>\n",
       "    </tr>\n",
       "    <tr>\n",
       "      <td>4</td>\n",
       "      <td>0.10030</td>\n",
       "      <td>0.08884</td>\n",
       "      <td>0.08356</td>\n",
       "      <td>0.11464</td>\n",
       "      <td>0.11190</td>\n",
       "      <td>0.08900</td>\n",
       "      <td>0.156811</td>\n",
       "      <td>0.020725</td>\n",
       "      <td>0.03108</td>\n",
       "      <td>0.290410</td>\n",
       "      <td>...</td>\n",
       "      <td>0.166413</td>\n",
       "      <td>0.192517</td>\n",
       "      <td>0.197010</td>\n",
       "      <td>0.240969</td>\n",
       "      <td>0.269288</td>\n",
       "      <td>0.452721</td>\n",
       "      <td>0.509013</td>\n",
       "      <td>0.552198</td>\n",
       "      <td>0.588619</td>\n",
       "      <td>0.684627</td>\n",
       "    </tr>\n",
       "    <tr>\n",
       "      <td>5</td>\n",
       "      <td>0.09944</td>\n",
       "      <td>0.09458</td>\n",
       "      <td>0.08502</td>\n",
       "      <td>0.10918</td>\n",
       "      <td>0.10326</td>\n",
       "      <td>0.08292</td>\n",
       "      <td>0.124408</td>\n",
       "      <td>0.063491</td>\n",
       "      <td>0.02416</td>\n",
       "      <td>0.154367</td>\n",
       "      <td>...</td>\n",
       "      <td>0.148576</td>\n",
       "      <td>0.171179</td>\n",
       "      <td>0.194013</td>\n",
       "      <td>0.215181</td>\n",
       "      <td>0.254842</td>\n",
       "      <td>0.427958</td>\n",
       "      <td>0.501137</td>\n",
       "      <td>0.541791</td>\n",
       "      <td>0.580450</td>\n",
       "      <td>0.685367</td>\n",
       "    </tr>\n",
       "    <tr>\n",
       "      <td>...</td>\n",
       "      <td>...</td>\n",
       "      <td>...</td>\n",
       "      <td>...</td>\n",
       "      <td>...</td>\n",
       "      <td>...</td>\n",
       "      <td>...</td>\n",
       "      <td>...</td>\n",
       "      <td>...</td>\n",
       "      <td>...</td>\n",
       "      <td>...</td>\n",
       "      <td>...</td>\n",
       "      <td>...</td>\n",
       "      <td>...</td>\n",
       "      <td>...</td>\n",
       "      <td>...</td>\n",
       "      <td>...</td>\n",
       "      <td>...</td>\n",
       "      <td>...</td>\n",
       "      <td>...</td>\n",
       "      <td>...</td>\n",
       "      <td>...</td>\n",
       "    </tr>\n",
       "    <tr>\n",
       "      <td>25849</td>\n",
       "      <td>0.08848</td>\n",
       "      <td>0.07202</td>\n",
       "      <td>0.06862</td>\n",
       "      <td>0.08828</td>\n",
       "      <td>0.10996</td>\n",
       "      <td>0.09108</td>\n",
       "      <td>0.125303</td>\n",
       "      <td>0.061996</td>\n",
       "      <td>0.01966</td>\n",
       "      <td>0.225771</td>\n",
       "      <td>...</td>\n",
       "      <td>0.123224</td>\n",
       "      <td>0.141200</td>\n",
       "      <td>0.187109</td>\n",
       "      <td>0.205790</td>\n",
       "      <td>0.236680</td>\n",
       "      <td>0.409089</td>\n",
       "      <td>0.505902</td>\n",
       "      <td>0.610525</td>\n",
       "      <td>0.687322</td>\n",
       "      <td>0.755740</td>\n",
       "    </tr>\n",
       "    <tr>\n",
       "      <td>25850</td>\n",
       "      <td>0.08916</td>\n",
       "      <td>0.07058</td>\n",
       "      <td>0.07356</td>\n",
       "      <td>0.09024</td>\n",
       "      <td>0.11464</td>\n",
       "      <td>0.09508</td>\n",
       "      <td>0.101832</td>\n",
       "      <td>0.107078</td>\n",
       "      <td>0.01668</td>\n",
       "      <td>0.278549</td>\n",
       "      <td>...</td>\n",
       "      <td>0.119501</td>\n",
       "      <td>0.148220</td>\n",
       "      <td>0.193126</td>\n",
       "      <td>0.213050</td>\n",
       "      <td>0.247104</td>\n",
       "      <td>0.391491</td>\n",
       "      <td>0.486868</td>\n",
       "      <td>0.626182</td>\n",
       "      <td>0.725444</td>\n",
       "      <td>0.747718</td>\n",
       "    </tr>\n",
       "    <tr>\n",
       "      <td>25851</td>\n",
       "      <td>0.09356</td>\n",
       "      <td>0.07718</td>\n",
       "      <td>0.07972</td>\n",
       "      <td>0.09566</td>\n",
       "      <td>0.12370</td>\n",
       "      <td>0.10438</td>\n",
       "      <td>0.090888</td>\n",
       "      <td>0.132282</td>\n",
       "      <td>0.01594</td>\n",
       "      <td>0.239440</td>\n",
       "      <td>...</td>\n",
       "      <td>0.122521</td>\n",
       "      <td>0.167579</td>\n",
       "      <td>0.185550</td>\n",
       "      <td>0.219117</td>\n",
       "      <td>0.267284</td>\n",
       "      <td>0.382438</td>\n",
       "      <td>0.488566</td>\n",
       "      <td>0.635177</td>\n",
       "      <td>0.725810</td>\n",
       "      <td>0.751670</td>\n",
       "    </tr>\n",
       "    <tr>\n",
       "      <td>25852</td>\n",
       "      <td>0.09598</td>\n",
       "      <td>0.08122</td>\n",
       "      <td>0.08582</td>\n",
       "      <td>0.10706</td>\n",
       "      <td>0.12676</td>\n",
       "      <td>0.10558</td>\n",
       "      <td>0.110120</td>\n",
       "      <td>0.089760</td>\n",
       "      <td>0.02124</td>\n",
       "      <td>0.318148</td>\n",
       "      <td>...</td>\n",
       "      <td>0.141382</td>\n",
       "      <td>0.178518</td>\n",
       "      <td>0.200797</td>\n",
       "      <td>0.237471</td>\n",
       "      <td>0.266822</td>\n",
       "      <td>0.404052</td>\n",
       "      <td>0.463467</td>\n",
       "      <td>0.607961</td>\n",
       "      <td>0.699460</td>\n",
       "      <td>0.715236</td>\n",
       "    </tr>\n",
       "    <tr>\n",
       "      <td>25853</td>\n",
       "      <td>0.09496</td>\n",
       "      <td>0.07924</td>\n",
       "      <td>0.07704</td>\n",
       "      <td>0.11542</td>\n",
       "      <td>0.12096</td>\n",
       "      <td>0.09346</td>\n",
       "      <td>0.199418</td>\n",
       "      <td>0.000004</td>\n",
       "      <td>0.03838</td>\n",
       "      <td>0.456588</td>\n",
       "      <td>...</td>\n",
       "      <td>0.158591</td>\n",
       "      <td>0.180086</td>\n",
       "      <td>0.227616</td>\n",
       "      <td>0.262745</td>\n",
       "      <td>0.271673</td>\n",
       "      <td>0.414551</td>\n",
       "      <td>0.501920</td>\n",
       "      <td>0.588347</td>\n",
       "      <td>0.622371</td>\n",
       "      <td>0.700966</td>\n",
       "    </tr>\n",
       "  </tbody>\n",
       "</table>\n",
       "<p>25668 rows × 57 columns</p>\n",
       "</div>"
      ],
      "text/plain": [
       "          BLUE    GREEN      RED      NIR    SWIR1    SWIR2      NDVI  \\\n",
       "1      0.09510  0.08092  0.07284  0.10584  0.12816  0.11314  0.184688   \n",
       "2      0.09188  0.07702  0.06970  0.09748  0.09838  0.07868  0.166168   \n",
       "3      0.09058  0.07202  0.06496  0.08936  0.11238  0.10382  0.158113   \n",
       "4      0.10030  0.08884  0.08356  0.11464  0.11190  0.08900  0.156811   \n",
       "5      0.09944  0.09458  0.08502  0.10918  0.10326  0.08292  0.124408   \n",
       "...        ...      ...      ...      ...      ...      ...       ...   \n",
       "25849  0.08848  0.07202  0.06862  0.08828  0.10996  0.09108  0.125303   \n",
       "25850  0.08916  0.07058  0.07356  0.09024  0.11464  0.09508  0.101832   \n",
       "25851  0.09356  0.07718  0.07972  0.09566  0.12370  0.10438  0.090888   \n",
       "25852  0.09598  0.08122  0.08582  0.10706  0.12676  0.10558  0.110120   \n",
       "25853  0.09496  0.07924  0.07704  0.11542  0.12096  0.09346  0.199418   \n",
       "\n",
       "             PV      DVI       GCI  ...       Q10       Q20       Q30  \\\n",
       "1      0.002605  0.03300  0.307958  ...  0.154756  0.166694  0.208341   \n",
       "2      0.012718  0.02778  0.265645  ...  0.139873  0.151204  0.190626   \n",
       "3      0.019495  0.02440  0.240766  ...  0.133267  0.135449  0.192445   \n",
       "4      0.020725  0.03108  0.290410  ...  0.166413  0.192517  0.197010   \n",
       "5      0.063491  0.02416  0.154367  ...  0.148576  0.171179  0.194013   \n",
       "...         ...      ...       ...  ...       ...       ...       ...   \n",
       "25849  0.061996  0.01966  0.225771  ...  0.123224  0.141200  0.187109   \n",
       "25850  0.107078  0.01668  0.278549  ...  0.119501  0.148220  0.193126   \n",
       "25851  0.132282  0.01594  0.239440  ...  0.122521  0.167579  0.185550   \n",
       "25852  0.089760  0.02124  0.318148  ...  0.141382  0.178518  0.200797   \n",
       "25853  0.000004  0.03838  0.456588  ...  0.158591  0.180086  0.227616   \n",
       "\n",
       "            Q40       Q50       Q60       Q70       Q80       Q90       Q99  \n",
       "1      0.247508  0.276259  0.424868  0.504372  0.616470  0.660472  0.742557  \n",
       "2      0.215384  0.258922  0.453570  0.507455  0.564987  0.607061  0.726106  \n",
       "3      0.219268  0.248940  0.429981  0.506864  0.633630  0.680858  0.776823  \n",
       "4      0.240969  0.269288  0.452721  0.509013  0.552198  0.588619  0.684627  \n",
       "5      0.215181  0.254842  0.427958  0.501137  0.541791  0.580450  0.685367  \n",
       "...         ...       ...       ...       ...       ...       ...       ...  \n",
       "25849  0.205790  0.236680  0.409089  0.505902  0.610525  0.687322  0.755740  \n",
       "25850  0.213050  0.247104  0.391491  0.486868  0.626182  0.725444  0.747718  \n",
       "25851  0.219117  0.267284  0.382438  0.488566  0.635177  0.725810  0.751670  \n",
       "25852  0.237471  0.266822  0.404052  0.463467  0.607961  0.699460  0.715236  \n",
       "25853  0.262745  0.271673  0.414551  0.501920  0.588347  0.622371  0.700966  \n",
       "\n",
       "[25668 rows x 57 columns]"
      ]
     },
     "execution_count": 19,
     "metadata": {},
     "output_type": "execute_result"
    }
   ],
   "source": [
    "df_X"
   ]
  },
  {
   "cell_type": "code",
   "execution_count": 20,
   "metadata": {},
   "outputs": [
    {
     "data": {
      "text/plain": [
       "(25668, 57)"
      ]
     },
     "execution_count": 20,
     "metadata": {},
     "output_type": "execute_result"
    }
   ],
   "source": [
    "df_X.shape"
   ]
  },
  {
   "cell_type": "code",
   "execution_count": 21,
   "metadata": {},
   "outputs": [],
   "source": [
    "# split into train and test set\n",
    "X_train, X_test, y_train, y_test = train_test_split(df_X, \n",
    "                                                    y, \n",
    "                                                    test_size = 0.33, \n",
    "                                                    random_state = 1)\n",
    "df_train = pd.concat([X_train,\n",
    "                     y_train],\n",
    "                    axis = 1)\n",
    "df_train.to_csv('df_train.csv', index = False)\n",
    "\n",
    "df_test = pd.concat([X_test,\n",
    "                     y_test],\n",
    "                    axis = 1)\n",
    "df_test.to_csv('df_test.csv', index = False)\n"
   ]
  },
  {
   "cell_type": "code",
   "execution_count": 22,
   "metadata": {},
   "outputs": [
    {
     "data": {
      "text/plain": [
       "(17197, 57)"
      ]
     },
     "execution_count": 22,
     "metadata": {},
     "output_type": "execute_result"
    }
   ],
   "source": [
    "X_train.shape"
   ]
  },
  {
   "cell_type": "code",
   "execution_count": 23,
   "metadata": {},
   "outputs": [
    {
     "data": {
      "text/plain": [
       "(8471, 57)"
      ]
     },
     "execution_count": 23,
     "metadata": {},
     "output_type": "execute_result"
    }
   ],
   "source": [
    "X_test.shape"
   ]
  },
  {
   "cell_type": "code",
   "execution_count": 24,
   "metadata": {},
   "outputs": [
    {
     "data": {
      "text/plain": [
       "Index(['BLUE', 'GREEN', 'RED', 'NIR', 'SWIR1', 'SWIR2', 'NDVI', 'PV', 'DVI',\n",
       "       'GCI', 'GDVI', 'GLI', 'GNDVI', 'GRVI', 'IPVI', 'MSR', 'NLI', 'RDVI',\n",
       "       'SR', 'VARI', 'SAVI', 'VNIR-BI', 'NDBI', 'UI', 'DBSI', 'BU', 'NDWI',\n",
       "       'MNDWI', 'BAEM', 'AVE', 'MIN', 'MAX', 'STD', 'VAR', 'PTP', 'SKEW',\n",
       "       'KUR', 'P10', 'P20', 'P30', 'P40', 'P50', 'P60', 'P70', 'P80', 'P90',\n",
       "       'P99', 'Q10', 'Q20', 'Q30', 'Q40', 'Q50', 'Q60', 'Q70', 'Q80', 'Q90',\n",
       "       'Q99'],\n",
       "      dtype='object')"
      ]
     },
     "execution_count": 24,
     "metadata": {},
     "output_type": "execute_result"
    }
   ],
   "source": [
    "X_train.columns"
   ]
  },
  {
   "cell_type": "code",
   "execution_count": 25,
   "metadata": {},
   "outputs": [
    {
     "data": {
      "image/png": "[encoded data removed]",
      "text/plain": [
       "<Figure size 720x360 with 2 Axes>"
      ]
     },
     "metadata": {
      "needs_background": "light"
     },
     "output_type": "display_data"
    },
    {
     "name": "stderr",
     "output_type": "stream",
     "text": [
      "[Parallel(n_jobs=1)]: Using backend SequentialBackend with 1 concurrent workers.\n"
     ]
    },
    {
     "name": "stdout",
     "output_type": "stream",
     "text": [
      "Score using important features: [1.133012737705064, 1.122856416088426, 1.1513155937973472, 1.1559957171437159, 1.1509642470217087, 1.0907795622133507, 1.14563862347552, 1.1207701034276734, 1.129620330346056, 1.1127995245619409]\n",
      "Average scores of 10 folds 1.1313752855780803\n",
      "Number of original features: 57\n",
      "Number of selected features: 27\n",
      "Important features selected: ['NIR', 'P60', 'AVE', 'PTP', 'P99', 'P10', 'P40', 'P50', 'SKEW', 'DBSI', 'P30', 'SAVI', 'P70', 'P20', 'P80', 'MIN', 'GLI', 'P90', 'SWIR1', 'VARI', 'NDBI', 'KUR', 'GREEN', 'UI', 'BLUE', 'SWIR2', 'NLI']\n"
     ]
    },
    {
     "name": "stderr",
     "output_type": "stream",
     "text": [
      "[Parallel(n_jobs=1)]: Done  10 out of  10 | elapsed:    8.4s finished\n"
     ]
    }
   ],
   "source": [
    "#auto select important features and its values using gradient descent\n",
    "\n",
    "# std_train = pd.DataFrame(StandardScaler().fit_transform(X_train), \n",
    "#                           columns = X_train.columns).set_index(X_train.index)\n",
    "\n",
    "# std_test = pd.DataFrame(StandardScaler().fit_transform(X_test), \n",
    "#                           columns = X_test.columns).set_index(X_test.index)\n",
    "\n",
    "imp_feat, df_feature_imp = rsl.select_features_gd(\n",
    "                                        X_train,\n",
    "                                        y_train,\n",
    "                                        'lst_train',\n",
    "                                        model = LGBMRegressor(n_estimators = 100),\n",
    "                                        figsize = (10, 5),\n",
    "                                        legendsize = 20, \n",
    "                                        fontsize_ticks = 12,\n",
    "                                        scoring = 'neg_root_mean_squared_error' \n",
    "                                        )"
   ]
  },
  {
   "cell_type": "code",
   "execution_count": 26,
   "metadata": {},
   "outputs": [],
   "source": [
    "#check for variance\n",
    "norm_data = pd.DataFrame(MinMaxScaler().fit_transform(X_train[imp_feat]),\n",
    "                         columns = imp_feat)\n",
    "var_thresh = VarianceThreshold(threshold = 0.01)  \n",
    "transformed_data = var_thresh.fit_transform(norm_data) "
   ]
  },
  {
   "cell_type": "code",
   "execution_count": 27,
   "metadata": {},
   "outputs": [
    {
     "data": {
      "text/plain": [
       "Index(['NIR', 'AVE', 'PTP', 'P99', 'P10', 'P40', 'P50', 'DBSI', 'P30', 'P20',\n",
       "       'P80', 'MIN', 'GLI', 'P90', 'NDBI', 'KUR', 'UI', 'NLI'],\n",
       "      dtype='object')"
      ]
     },
     "execution_count": 27,
     "metadata": {},
     "output_type": "execute_result"
    }
   ],
   "source": [
    "final_feat = norm_data[norm_data.columns[var_thresh.get_support(indices=True)]].columns\n",
    "final_feat"
   ]
  },
  {
   "cell_type": "code",
   "execution_count": 28,
   "metadata": {},
   "outputs": [
    {
     "name": "stderr",
     "output_type": "stream",
     "text": [
      "[Parallel(n_jobs=1)]: Using backend SequentialBackend with 1 concurrent workers.\n"
     ]
    },
    {
     "name": "stdout",
     "output_type": "stream",
     "text": [
      "Score using important features: [1.1095040868641914, 1.1256304110733573, 1.1413497980117153, 1.148927789682208, 1.1618116027298833, 1.1414439868479411, 1.1454121221449034, 1.1655918290544247, 1.1348418757030776, 1.0987445076119347]\n",
      "Average scores of 10 folds 1.1373258009723637\n"
     ]
    },
    {
     "name": "stderr",
     "output_type": "stream",
     "text": [
      "[Parallel(n_jobs=1)]: Done  10 out of  10 | elapsed:    3.3s finished\n"
     ]
    }
   ],
   "source": [
    "model = LGBMRegressor(n_estimators = 100)\n",
    "pipeline = Pipeline([('sc', \n",
    "              StandardScaler()),\n",
    "            ('mod',\n",
    "             model)])\n",
    "\n",
    "kf = KFold(n_splits = 10, \n",
    "           shuffle = True) \n",
    "\n",
    "scores_fold = cross_val_score(pipeline, \n",
    "                              X_train[final_feat], \n",
    "                              y_train, \n",
    "                              cv = kf,\n",
    "                              scoring = 'neg_root_mean_squared_error',\n",
    "                              verbose = 1)\n",
    "print(f'Score using important features: {[-1 * i for i in scores_fold]}')\n",
    "print(f'Average scores of 10 folds {-1 * mean(scores_fold)}')"
   ]
  },
  {
   "cell_type": "code",
   "execution_count": 29,
   "metadata": {},
   "outputs": [
    {
     "data": {
      "image/png": "[encoded data removed]",
      "text/plain": [
       "<Figure size 360x288 with 1 Axes>"
      ]
     },
     "metadata": {
      "needs_background": "light"
     },
     "output_type": "display_data"
    }
   ],
   "source": [
    "model = LGBMRegressor(n_estimators = 100)\n",
    "\n",
    "pipeline = Pipeline([('sc', \n",
    "              StandardScaler()),\n",
    "            ('mod',\n",
    "             model)])\n",
    "\n",
    "model_imp = pipeline.fit(X_train[final_feat], \n",
    "                      y_train)\n",
    "\n",
    "#Plot feature importance\n",
    "feature_importance = permutation_importance(model_imp, \n",
    "                                            X_train[final_feat], \n",
    "                                            y_train, \n",
    "                                            n_repeats = 100,\n",
    "                            random_state = 0)    \n",
    "\n",
    "\n",
    "perm_sorted_idx = feature_importance.importances_mean.argsort()\n",
    "\n",
    "\n",
    "tree_importance_sorted_idx = np.argsort(model_imp.named_steps['mod'].feature_importances_)\n",
    "\n",
    "\n",
    "tree_indices = np.arange(0, len(model_imp.named_steps['mod'].feature_importances_)) + 0.5\n",
    "\n",
    "labels = X_train[final_feat].columns[perm_sorted_idx]\n",
    "\n",
    "f, ax = plt.subplots(figsize = (5,4))\n",
    "\n",
    "ax.boxplot(feature_importance.importances[perm_sorted_idx].T, \n",
    "            vert = False,\n",
    "        labels = labels)\n",
    "ax.set_yticklabels(X_train[final_feat].columns[perm_sorted_idx],\n",
    "                    fontsize = 12)\n",
    "\n",
    "df_imp = pd.DataFrame(feature_importance.importances[perm_sorted_idx])\n",
    "df_imp['sum_imp'] = df_imp.sum(axis = 1)\n",
    "df_imp['features'] = X_train[final_feat].columns[perm_sorted_idx]\n",
    "df_imp['mean'] = df_imp.iloc[:,:-2].mean(axis = 1)\n",
    "feat_mean = df_imp['mean'].mean(axis = 0)\n",
    "\n",
    "ax.axvline(feat_mean , \n",
    "    color = 'k', \n",
    "    linestyle = '--', \n",
    "    linewidth = 1,\n",
    "    label = 'PD Mean')\n",
    "\n",
    "ax.axvline(0, \n",
    "    color = 'r', \n",
    "    linestyle = '--', \n",
    "    linewidth = 1,\n",
    "    label = 'Zero line')\n",
    "\n",
    "ax.legend(fontsize = 20,\n",
    "         loc = 'lower right')\n",
    "    \n",
    "ax.set_xlabel('Performance deterioration',\n",
    "       fontsize = 15)\n",
    "\n",
    "f.tight_layout()\n",
    "\n",
    "graph_output_path = os.path.join(os.getcwd(), \n",
    "                  'output_rs_learn',\n",
    "                  'graphs')\n",
    "\n",
    "if not os.path.exists(graph_output_path):\n",
    "    os.makedirs(graph_output_path)\n",
    "    \n",
    "f.savefig(os.path.join(graph_output_path,\n",
    "            f'final_var_imp.png'),\n",
    "           dpi = 300)    \n",
    "plt.show()"
   ]
  },
  {
   "cell_type": "code",
   "execution_count": 30,
   "metadata": {},
   "outputs": [
    {
     "data": {
      "text/plain": [
       "Index(['NIR', 'P40', 'P30', 'P80', 'P90', 'P99', 'P50', 'AVE', 'P20', 'DBSI',\n",
       "       'PTP', 'KUR', 'GLI', 'P10', 'NDBI', 'MIN', 'NLI', 'UI'],\n",
       "      dtype='object')"
      ]
     },
     "execution_count": 30,
     "metadata": {},
     "output_type": "execute_result"
    }
   ],
   "source": [
    "labels"
   ]
  },
  {
   "cell_type": "code",
   "execution_count": 171,
   "metadata": {},
   "outputs": [],
   "source": [
    "# #rasterize final feat\n",
    "\n",
    "# for i in final_feat:\n",
    "#     rd.df_to_raster(df_X[i],\n",
    "#                    i,\n",
    "#                    'reg')\n"
   ]
  },
  {
   "cell_type": "code",
   "execution_count": null,
   "metadata": {},
   "outputs": [],
   "source": []
  },
  {
   "cell_type": "code",
   "execution_count": null,
   "metadata": {},
   "outputs": [],
   "source": []
  },
  {
   "cell_type": "code",
   "execution_count": 135,
   "metadata": {},
   "outputs": [],
   "source": [
    "# #output LST 100m\n",
    "# rd.df_to_raster(df_oli_tirs['LST'],\n",
    "#                'LST_100m',\n",
    "#                'reg')"
   ]
  },
  {
   "cell_type": "code",
   "execution_count": null,
   "metadata": {},
   "outputs": [],
   "source": []
  }
 ],
 "metadata": {
  "kernelspec": {
   "display_name": "Python 3",
   "language": "python",
   "name": "python3"
  },
  "language_info": {
   "codemirror_mode": {
    "name": "ipython",
    "version": 3
   },
   "file_extension": ".py",
   "mimetype": "text/x-python",
   "name": "python",
   "nbconvert_exporter": "python",
   "pygments_lexer": "ipython3",
   "version": "3.8.5"
  }
 },
 "nbformat": 4,
 "nbformat_minor": 4
}
